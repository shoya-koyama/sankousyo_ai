{
 "cells": [
  {
   "cell_type": "code",
   "execution_count": 2,
   "id": "2715b7a8-975c-41c5-8ce3-c92b0355dd0e",
   "metadata": {},
   "outputs": [],
   "source": [
    "from PIL import Image\n",
    "import os, glob\n",
    "import numpy as np\n",
    "import random, math\n",
    "\n",
    "# 画像が保存されているルートディレクトリのパス\n",
    "root_dir = \"image\"\n",
    "\n",
    "# 商品カテゴリ名（ラベル）\n",
    "categories = [\"正誤問題\", \"文系の数学\", \"厳選数学\", \"中堅私大古文\",\n",
    "              \"整序問題集\", \"現代文アクセス発展\", \"数学思考力\",\n",
    "              \"ITパスポート\", \"Focus Gold\", \"英文法レベル5\"]\n",
    "\n",
    "# 画像・ラベル格納用\n",
    "X = []\n",
    "Y = []\n",
    "\n",
    "# サンプル作成関数（画像を読み込み配列に追加）\n",
    "def add_sample(cat, fname):\n",
    "    img = Image.open(fname)\n",
    "    img = img.convert(\"RGB\")\n",
    "    img = img.resize((150, 150))\n",
    "    data = np.asarray(img)\n",
    "    X.append(data)\n",
    "    Y.append(cat)\n",
    "\n",
    "# データセット作成関数\n",
    "def make_sample(files):\n",
    "    global X, Y\n",
    "    X = []\n",
    "    Y = []\n",
    "    for cat, fname in files:\n",
    "        add_sample(cat, fname)\n",
    "    return np.array(X), np.array(Y)\n",
    "\n",
    "# すべてのファイル情報を格納\n",
    "allfiles = []\n",
    "\n",
    "for idx, cat in enumerate(categories):\n",
    "    image_dir = os.path.join(root_dir, cat)\n",
    "    files = glob.glob(os.path.join(image_dir, \"*.png\")) + \\\n",
    "            glob.glob(os.path.join(image_dir, \"*.jpg\")) + \\\n",
    "            glob.glob(os.path.join(image_dir, \"*.jpeg\"))\n",
    "    for f in files:\n",
    "        allfiles.append((idx, f))\n",
    "\n",
    "# シャッフルして 8:2 に分割\n",
    "random.shuffle(allfiles)\n",
    "threshold = math.floor(len(allfiles) * 0.8)\n",
    "train = allfiles[:threshold]\n",
    "test = allfiles[threshold:]\n",
    "\n",
    "# データ生成\n",
    "X_train, y_train = make_sample(train)\n",
    "X_test, y_test = make_sample(test)\n",
    "\n",
    "# 保存ディレクトリがなければ作成\n",
    "os.makedirs(\"test\", exist_ok=True)\n",
    "\n",
    "# データ保存（.npz形式で4配列を安全に保存）\n",
    "np.savez(\"test/tea_data.npz\",\n",
    "         X_train=X_train, X_test=X_test,\n",
    "         y_train=y_train, y_test=y_test)\n"
   ]
  },
  {
   "cell_type": "code",
   "execution_count": 3,
   "id": "41b0d047-6fed-4a81-91da-e6716fa994ec",
   "metadata": {},
   "outputs": [
    {
     "name": "stderr",
     "output_type": "stream",
     "text": [
      "C:\\Users\\iniad\\miniconda3\\envs\\conda\\lib\\site-packages\\keras\\src\\layers\\convolutional\\base_conv.py:107: UserWarning: Do not pass an `input_shape`/`input_dim` argument to a layer. When using Sequential models, prefer using an `Input(shape)` object as the first layer in the model instead.\n",
      "  super().__init__(activity_regularizer=activity_regularizer, **kwargs)\n"
     ]
    },
    {
     "data": {
      "text/html": [
       "<pre style=\"white-space:pre;overflow-x:auto;line-height:normal;font-family:Menlo,'DejaVu Sans Mono',consolas,'Courier New',monospace\"><span style=\"font-weight: bold\">Model: \"sequential\"</span>\n",
       "</pre>\n"
      ],
      "text/plain": [
       "\u001b[1mModel: \"sequential\"\u001b[0m\n"
      ]
     },
     "metadata": {},
     "output_type": "display_data"
    },
    {
     "data": {
      "text/html": [
       "<pre style=\"white-space:pre;overflow-x:auto;line-height:normal;font-family:Menlo,'DejaVu Sans Mono',consolas,'Courier New',monospace\">┏━━━━━━━━━━━━━━━━━━━━━━━━━━━━━━━━━━━━━━┳━━━━━━━━━━━━━━━━━━━━━━━━━━━━━┳━━━━━━━━━━━━━━━━━┓\n",
       "┃<span style=\"font-weight: bold\"> Layer (type)                         </span>┃<span style=\"font-weight: bold\"> Output Shape                </span>┃<span style=\"font-weight: bold\">         Param # </span>┃\n",
       "┡━━━━━━━━━━━━━━━━━━━━━━━━━━━━━━━━━━━━━━╇━━━━━━━━━━━━━━━━━━━━━━━━━━━━━╇━━━━━━━━━━━━━━━━━┩\n",
       "│ conv2d (<span style=\"color: #0087ff; text-decoration-color: #0087ff\">Conv2D</span>)                      │ (<span style=\"color: #00d7ff; text-decoration-color: #00d7ff\">None</span>, <span style=\"color: #00af00; text-decoration-color: #00af00\">148</span>, <span style=\"color: #00af00; text-decoration-color: #00af00\">148</span>, <span style=\"color: #00af00; text-decoration-color: #00af00\">32</span>)        │             <span style=\"color: #00af00; text-decoration-color: #00af00\">896</span> │\n",
       "├──────────────────────────────────────┼─────────────────────────────┼─────────────────┤\n",
       "│ max_pooling2d (<span style=\"color: #0087ff; text-decoration-color: #0087ff\">MaxPooling2D</span>)         │ (<span style=\"color: #00d7ff; text-decoration-color: #00d7ff\">None</span>, <span style=\"color: #00af00; text-decoration-color: #00af00\">74</span>, <span style=\"color: #00af00; text-decoration-color: #00af00\">74</span>, <span style=\"color: #00af00; text-decoration-color: #00af00\">32</span>)          │               <span style=\"color: #00af00; text-decoration-color: #00af00\">0</span> │\n",
       "├──────────────────────────────────────┼─────────────────────────────┼─────────────────┤\n",
       "│ conv2d_1 (<span style=\"color: #0087ff; text-decoration-color: #0087ff\">Conv2D</span>)                    │ (<span style=\"color: #00d7ff; text-decoration-color: #00d7ff\">None</span>, <span style=\"color: #00af00; text-decoration-color: #00af00\">72</span>, <span style=\"color: #00af00; text-decoration-color: #00af00\">72</span>, <span style=\"color: #00af00; text-decoration-color: #00af00\">64</span>)          │          <span style=\"color: #00af00; text-decoration-color: #00af00\">18,496</span> │\n",
       "├──────────────────────────────────────┼─────────────────────────────┼─────────────────┤\n",
       "│ max_pooling2d_1 (<span style=\"color: #0087ff; text-decoration-color: #0087ff\">MaxPooling2D</span>)       │ (<span style=\"color: #00d7ff; text-decoration-color: #00d7ff\">None</span>, <span style=\"color: #00af00; text-decoration-color: #00af00\">36</span>, <span style=\"color: #00af00; text-decoration-color: #00af00\">36</span>, <span style=\"color: #00af00; text-decoration-color: #00af00\">64</span>)          │               <span style=\"color: #00af00; text-decoration-color: #00af00\">0</span> │\n",
       "├──────────────────────────────────────┼─────────────────────────────┼─────────────────┤\n",
       "│ conv2d_2 (<span style=\"color: #0087ff; text-decoration-color: #0087ff\">Conv2D</span>)                    │ (<span style=\"color: #00d7ff; text-decoration-color: #00d7ff\">None</span>, <span style=\"color: #00af00; text-decoration-color: #00af00\">34</span>, <span style=\"color: #00af00; text-decoration-color: #00af00\">34</span>, <span style=\"color: #00af00; text-decoration-color: #00af00\">128</span>)         │          <span style=\"color: #00af00; text-decoration-color: #00af00\">73,856</span> │\n",
       "├──────────────────────────────────────┼─────────────────────────────┼─────────────────┤\n",
       "│ max_pooling2d_2 (<span style=\"color: #0087ff; text-decoration-color: #0087ff\">MaxPooling2D</span>)       │ (<span style=\"color: #00d7ff; text-decoration-color: #00d7ff\">None</span>, <span style=\"color: #00af00; text-decoration-color: #00af00\">17</span>, <span style=\"color: #00af00; text-decoration-color: #00af00\">17</span>, <span style=\"color: #00af00; text-decoration-color: #00af00\">128</span>)         │               <span style=\"color: #00af00; text-decoration-color: #00af00\">0</span> │\n",
       "├──────────────────────────────────────┼─────────────────────────────┼─────────────────┤\n",
       "│ conv2d_3 (<span style=\"color: #0087ff; text-decoration-color: #0087ff\">Conv2D</span>)                    │ (<span style=\"color: #00d7ff; text-decoration-color: #00d7ff\">None</span>, <span style=\"color: #00af00; text-decoration-color: #00af00\">15</span>, <span style=\"color: #00af00; text-decoration-color: #00af00\">15</span>, <span style=\"color: #00af00; text-decoration-color: #00af00\">128</span>)         │         <span style=\"color: #00af00; text-decoration-color: #00af00\">147,584</span> │\n",
       "├──────────────────────────────────────┼─────────────────────────────┼─────────────────┤\n",
       "│ max_pooling2d_3 (<span style=\"color: #0087ff; text-decoration-color: #0087ff\">MaxPooling2D</span>)       │ (<span style=\"color: #00d7ff; text-decoration-color: #00d7ff\">None</span>, <span style=\"color: #00af00; text-decoration-color: #00af00\">7</span>, <span style=\"color: #00af00; text-decoration-color: #00af00\">7</span>, <span style=\"color: #00af00; text-decoration-color: #00af00\">128</span>)           │               <span style=\"color: #00af00; text-decoration-color: #00af00\">0</span> │\n",
       "├──────────────────────────────────────┼─────────────────────────────┼─────────────────┤\n",
       "│ flatten (<span style=\"color: #0087ff; text-decoration-color: #0087ff\">Flatten</span>)                    │ (<span style=\"color: #00d7ff; text-decoration-color: #00d7ff\">None</span>, <span style=\"color: #00af00; text-decoration-color: #00af00\">6272</span>)                │               <span style=\"color: #00af00; text-decoration-color: #00af00\">0</span> │\n",
       "├──────────────────────────────────────┼─────────────────────────────┼─────────────────┤\n",
       "│ dense (<span style=\"color: #0087ff; text-decoration-color: #0087ff\">Dense</span>)                        │ (<span style=\"color: #00d7ff; text-decoration-color: #00d7ff\">None</span>, <span style=\"color: #00af00; text-decoration-color: #00af00\">512</span>)                 │       <span style=\"color: #00af00; text-decoration-color: #00af00\">3,211,776</span> │\n",
       "├──────────────────────────────────────┼─────────────────────────────┼─────────────────┤\n",
       "│ dense_1 (<span style=\"color: #0087ff; text-decoration-color: #0087ff\">Dense</span>)                      │ (<span style=\"color: #00d7ff; text-decoration-color: #00d7ff\">None</span>, <span style=\"color: #00af00; text-decoration-color: #00af00\">10</span>)                  │           <span style=\"color: #00af00; text-decoration-color: #00af00\">5,130</span> │\n",
       "└──────────────────────────────────────┴─────────────────────────────┴─────────────────┘\n",
       "</pre>\n"
      ],
      "text/plain": [
       "┏━━━━━━━━━━━━━━━━━━━━━━━━━━━━━━━━━━━━━━┳━━━━━━━━━━━━━━━━━━━━━━━━━━━━━┳━━━━━━━━━━━━━━━━━┓\n",
       "┃\u001b[1m \u001b[0m\u001b[1mLayer (type)                        \u001b[0m\u001b[1m \u001b[0m┃\u001b[1m \u001b[0m\u001b[1mOutput Shape               \u001b[0m\u001b[1m \u001b[0m┃\u001b[1m \u001b[0m\u001b[1m        Param #\u001b[0m\u001b[1m \u001b[0m┃\n",
       "┡━━━━━━━━━━━━━━━━━━━━━━━━━━━━━━━━━━━━━━╇━━━━━━━━━━━━━━━━━━━━━━━━━━━━━╇━━━━━━━━━━━━━━━━━┩\n",
       "│ conv2d (\u001b[38;5;33mConv2D\u001b[0m)                      │ (\u001b[38;5;45mNone\u001b[0m, \u001b[38;5;34m148\u001b[0m, \u001b[38;5;34m148\u001b[0m, \u001b[38;5;34m32\u001b[0m)        │             \u001b[38;5;34m896\u001b[0m │\n",
       "├──────────────────────────────────────┼─────────────────────────────┼─────────────────┤\n",
       "│ max_pooling2d (\u001b[38;5;33mMaxPooling2D\u001b[0m)         │ (\u001b[38;5;45mNone\u001b[0m, \u001b[38;5;34m74\u001b[0m, \u001b[38;5;34m74\u001b[0m, \u001b[38;5;34m32\u001b[0m)          │               \u001b[38;5;34m0\u001b[0m │\n",
       "├──────────────────────────────────────┼─────────────────────────────┼─────────────────┤\n",
       "│ conv2d_1 (\u001b[38;5;33mConv2D\u001b[0m)                    │ (\u001b[38;5;45mNone\u001b[0m, \u001b[38;5;34m72\u001b[0m, \u001b[38;5;34m72\u001b[0m, \u001b[38;5;34m64\u001b[0m)          │          \u001b[38;5;34m18,496\u001b[0m │\n",
       "├──────────────────────────────────────┼─────────────────────────────┼─────────────────┤\n",
       "│ max_pooling2d_1 (\u001b[38;5;33mMaxPooling2D\u001b[0m)       │ (\u001b[38;5;45mNone\u001b[0m, \u001b[38;5;34m36\u001b[0m, \u001b[38;5;34m36\u001b[0m, \u001b[38;5;34m64\u001b[0m)          │               \u001b[38;5;34m0\u001b[0m │\n",
       "├──────────────────────────────────────┼─────────────────────────────┼─────────────────┤\n",
       "│ conv2d_2 (\u001b[38;5;33mConv2D\u001b[0m)                    │ (\u001b[38;5;45mNone\u001b[0m, \u001b[38;5;34m34\u001b[0m, \u001b[38;5;34m34\u001b[0m, \u001b[38;5;34m128\u001b[0m)         │          \u001b[38;5;34m73,856\u001b[0m │\n",
       "├──────────────────────────────────────┼─────────────────────────────┼─────────────────┤\n",
       "│ max_pooling2d_2 (\u001b[38;5;33mMaxPooling2D\u001b[0m)       │ (\u001b[38;5;45mNone\u001b[0m, \u001b[38;5;34m17\u001b[0m, \u001b[38;5;34m17\u001b[0m, \u001b[38;5;34m128\u001b[0m)         │               \u001b[38;5;34m0\u001b[0m │\n",
       "├──────────────────────────────────────┼─────────────────────────────┼─────────────────┤\n",
       "│ conv2d_3 (\u001b[38;5;33mConv2D\u001b[0m)                    │ (\u001b[38;5;45mNone\u001b[0m, \u001b[38;5;34m15\u001b[0m, \u001b[38;5;34m15\u001b[0m, \u001b[38;5;34m128\u001b[0m)         │         \u001b[38;5;34m147,584\u001b[0m │\n",
       "├──────────────────────────────────────┼─────────────────────────────┼─────────────────┤\n",
       "│ max_pooling2d_3 (\u001b[38;5;33mMaxPooling2D\u001b[0m)       │ (\u001b[38;5;45mNone\u001b[0m, \u001b[38;5;34m7\u001b[0m, \u001b[38;5;34m7\u001b[0m, \u001b[38;5;34m128\u001b[0m)           │               \u001b[38;5;34m0\u001b[0m │\n",
       "├──────────────────────────────────────┼─────────────────────────────┼─────────────────┤\n",
       "│ flatten (\u001b[38;5;33mFlatten\u001b[0m)                    │ (\u001b[38;5;45mNone\u001b[0m, \u001b[38;5;34m6272\u001b[0m)                │               \u001b[38;5;34m0\u001b[0m │\n",
       "├──────────────────────────────────────┼─────────────────────────────┼─────────────────┤\n",
       "│ dense (\u001b[38;5;33mDense\u001b[0m)                        │ (\u001b[38;5;45mNone\u001b[0m, \u001b[38;5;34m512\u001b[0m)                 │       \u001b[38;5;34m3,211,776\u001b[0m │\n",
       "├──────────────────────────────────────┼─────────────────────────────┼─────────────────┤\n",
       "│ dense_1 (\u001b[38;5;33mDense\u001b[0m)                      │ (\u001b[38;5;45mNone\u001b[0m, \u001b[38;5;34m10\u001b[0m)                  │           \u001b[38;5;34m5,130\u001b[0m │\n",
       "└──────────────────────────────────────┴─────────────────────────────┴─────────────────┘\n"
      ]
     },
     "metadata": {},
     "output_type": "display_data"
    },
    {
     "data": {
      "text/html": [
       "<pre style=\"white-space:pre;overflow-x:auto;line-height:normal;font-family:Menlo,'DejaVu Sans Mono',consolas,'Courier New',monospace\"><span style=\"font-weight: bold\"> Total params: </span><span style=\"color: #00af00; text-decoration-color: #00af00\">3,457,738</span> (13.19 MB)\n",
       "</pre>\n"
      ],
      "text/plain": [
       "\u001b[1m Total params: \u001b[0m\u001b[38;5;34m3,457,738\u001b[0m (13.19 MB)\n"
      ]
     },
     "metadata": {},
     "output_type": "display_data"
    },
    {
     "data": {
      "text/html": [
       "<pre style=\"white-space:pre;overflow-x:auto;line-height:normal;font-family:Menlo,'DejaVu Sans Mono',consolas,'Courier New',monospace\"><span style=\"font-weight: bold\"> Trainable params: </span><span style=\"color: #00af00; text-decoration-color: #00af00\">3,457,738</span> (13.19 MB)\n",
       "</pre>\n"
      ],
      "text/plain": [
       "\u001b[1m Trainable params: \u001b[0m\u001b[38;5;34m3,457,738\u001b[0m (13.19 MB)\n"
      ]
     },
     "metadata": {},
     "output_type": "display_data"
    },
    {
     "data": {
      "text/html": [
       "<pre style=\"white-space:pre;overflow-x:auto;line-height:normal;font-family:Menlo,'DejaVu Sans Mono',consolas,'Courier New',monospace\"><span style=\"font-weight: bold\"> Non-trainable params: </span><span style=\"color: #00af00; text-decoration-color: #00af00\">0</span> (0.00 B)\n",
       "</pre>\n"
      ],
      "text/plain": [
       "\u001b[1m Non-trainable params: \u001b[0m\u001b[38;5;34m0\u001b[0m (0.00 B)\n"
      ]
     },
     "metadata": {},
     "output_type": "display_data"
    }
   ],
   "source": [
    "from keras import layers, models\n",
    "\n",
    "model = models.Sequential()\n",
    "model.add(layers.Conv2D(32,(3,3),activation=\"relu\",input_shape=(150,150,3)))\n",
    "model.add(layers.MaxPooling2D((2,2)))\n",
    "model.add(layers.Conv2D(64,(3,3),activation=\"relu\"))\n",
    "model.add(layers.MaxPooling2D((2,2)))\n",
    "model.add(layers.Conv2D(128,(3,3),activation=\"relu\"))\n",
    "model.add(layers.MaxPooling2D((2,2)))\n",
    "model.add(layers.Conv2D(128,(3,3),activation=\"relu\"))\n",
    "model.add(layers.MaxPooling2D((2,2)))\n",
    "model.add(layers.Flatten())\n",
    "model.add(layers.Dense(512,activation=\"relu\"))\n",
    "model.add(layers.Dense(10,activation=\"sigmoid\")) #分類先の種類分設定\n",
    "\n",
    "# モデル構成の確認\n",
    "model.summary()"
   ]
  },
  {
   "cell_type": "code",
   "execution_count": 4,
   "id": "e9ed6537-f113-4fe8-a1fc-e5897bd613b0",
   "metadata": {},
   "outputs": [],
   "source": [
    "# モデルのコンパイル\n",
    "\n",
    "from keras import optimizers\n",
    "\n",
    "model.compile(loss=\"binary_crossentropy\",\n",
    "              optimizer=optimizers.RMSprop(learning_rate=1e-4),\n",
    "              metrics=[\"acc\"])\n"
   ]
  },
  {
   "cell_type": "code",
   "execution_count": 7,
   "id": "b1fa0ff1-ce94-4aba-9fec-afb7c280ee9d",
   "metadata": {},
   "outputs": [],
   "source": [
    "import numpy as np\n",
    "from tensorflow.keras.utils import to_categorical\n",
    "\n",
    "# カテゴリ数の定義\n",
    "categories = [\"正誤問題\",\"文系の数学\",\"厳選数学\",\"中堅私大古文\",\n",
    "              \"整序問題集\",\"現代文アクセス発展\",\"数学思考力\",\n",
    "              \"ITパスポート\",\"Focus Gold\", \"英文法レベル5\"]\n",
    "\n",
    "data = np.load(\"test/tea_data.npz\")\n",
    "X_train = data[\"X_train\"]\n",
    "X_test = data[\"X_test\"]\n",
    "y_train = data[\"y_train\"]\n",
    "y_test = data[\"y_test\"]\n",
    "\n",
    "# データの正規化\n",
    "X_train = X_train.astype(\"float32\") / 255.0\n",
    "X_test  = X_test.astype(\"float32\") / 255.0\n",
    "\n",
    "y_train = to_categorical(y_train, num_classes=10)\n",
    "y_test  = to_categorical(y_test, num_classes=10)\n"
   ]
  },
  {
   "cell_type": "code",
   "execution_count": 8,
   "id": "90dedfce-9243-4e89-8d63-43aa2e385d19",
   "metadata": {},
   "outputs": [
    {
     "name": "stdout",
     "output_type": "stream",
     "text": [
      "Epoch 1/10\n",
      "\u001b[1m76/76\u001b[0m \u001b[32m━━━━━━━━━━━━━━━━━━━━\u001b[0m\u001b[37m\u001b[0m \u001b[1m16s\u001b[0m 153ms/step - acc: 0.1975 - loss: 0.4004 - val_acc: 0.3628 - val_loss: 0.2570\n",
      "Epoch 2/10\n",
      "\u001b[1m76/76\u001b[0m \u001b[32m━━━━━━━━━━━━━━━━━━━━\u001b[0m\u001b[37m\u001b[0m \u001b[1m12s\u001b[0m 160ms/step - acc: 0.6842 - loss: 0.1887 - val_acc: 0.9912 - val_loss: 0.0728\n",
      "Epoch 3/10\n",
      "\u001b[1m76/76\u001b[0m \u001b[32m━━━━━━━━━━━━━━━━━━━━\u001b[0m\u001b[37m\u001b[0m \u001b[1m12s\u001b[0m 160ms/step - acc: 0.9553 - loss: 0.0563 - val_acc: 1.0000 - val_loss: 0.0112\n",
      "Epoch 4/10\n",
      "\u001b[1m76/76\u001b[0m \u001b[32m━━━━━━━━━━━━━━━━━━━━\u001b[0m\u001b[37m\u001b[0m \u001b[1m13s\u001b[0m 163ms/step - acc: 0.9946 - loss: 0.0130 - val_acc: 1.0000 - val_loss: 0.0016\n",
      "Epoch 5/10\n",
      "\u001b[1m76/76\u001b[0m \u001b[32m━━━━━━━━━━━━━━━━━━━━\u001b[0m\u001b[37m\u001b[0m \u001b[1m12s\u001b[0m 162ms/step - acc: 0.9968 - loss: 0.0057 - val_acc: 1.0000 - val_loss: 5.4134e-04\n",
      "Epoch 6/10\n",
      "\u001b[1m76/76\u001b[0m \u001b[32m━━━━━━━━━━━━━━━━━━━━\u001b[0m\u001b[37m\u001b[0m \u001b[1m13s\u001b[0m 165ms/step - acc: 1.0000 - loss: 3.9158e-04 - val_acc: 1.0000 - val_loss: 1.6589e-04\n",
      "Epoch 7/10\n",
      "\u001b[1m76/76\u001b[0m \u001b[32m━━━━━━━━━━━━━━━━━━━━\u001b[0m\u001b[37m\u001b[0m \u001b[1m12s\u001b[0m 154ms/step - acc: 1.0000 - loss: 1.3333e-04 - val_acc: 1.0000 - val_loss: 8.7911e-05\n",
      "Epoch 8/10\n",
      "\u001b[1m76/76\u001b[0m \u001b[32m━━━━━━━━━━━━━━━━━━━━\u001b[0m\u001b[37m\u001b[0m \u001b[1m12s\u001b[0m 153ms/step - acc: 1.0000 - loss: 7.8296e-05 - val_acc: 1.0000 - val_loss: 5.4322e-05\n",
      "Epoch 9/10\n",
      "\u001b[1m76/76\u001b[0m \u001b[32m━━━━━━━━━━━━━━━━━━━━\u001b[0m\u001b[37m\u001b[0m \u001b[1m11s\u001b[0m 146ms/step - acc: 1.0000 - loss: 4.9196e-05 - val_acc: 1.0000 - val_loss: 4.0173e-05\n",
      "Epoch 10/10\n",
      "\u001b[1m76/76\u001b[0m \u001b[32m━━━━━━━━━━━━━━━━━━━━\u001b[0m\u001b[37m\u001b[0m \u001b[1m12s\u001b[0m 159ms/step - acc: 1.0000 - loss: 3.5600e-05 - val_acc: 1.0000 - val_loss: 3.2048e-05\n"
     ]
    },
    {
     "data": {
      "text/plain": [
       "<keras.src.callbacks.history.History at 0x12ebe1a77c0>"
      ]
     },
     "execution_count": 8,
     "metadata": {},
     "output_type": "execute_result"
    }
   ],
   "source": [
    "model.fit(\n",
    "    X_train,\n",
    "    y_train,\n",
    "    epochs=10,\n",
    "    batch_size=6,\n",
    "    validation_data=(X_test, y_test)\n",
    ")\n"
   ]
  },
  {
   "cell_type": "code",
   "execution_count": 9,
   "id": "4d32894c-8e0f-4afd-a3ae-679464fb564f",
   "metadata": {},
   "outputs": [
    {
     "name": "stdout",
     "output_type": "stream",
     "text": [
      "(452, 150, 150, 3)\n",
      "(452, 10)\n"
     ]
    }
   ],
   "source": [
    "print(X_train.shape)  # → (データ数, 150, 150, 3)\n",
    "print(y_train.shape)"
   ]
  },
  {
   "cell_type": "code",
   "execution_count": 12,
   "id": "253a6af2-0b89-409e-bdd0-b2baec0174c3",
   "metadata": {},
   "outputs": [
    {
     "name": "stdout",
     "output_type": "stream",
     "text": [
      "Epoch 1/10\n",
      "\u001b[1m76/76\u001b[0m \u001b[32m━━━━━━━━━━━━━━━━━━━━\u001b[0m\u001b[37m\u001b[0m \u001b[1m9s\u001b[0m 120ms/step - acc: 1.0000 - loss: 9.1020e-06 - val_acc: 1.0000 - val_loss: 8.4558e-06\n",
      "Epoch 2/10\n",
      "\u001b[1m76/76\u001b[0m \u001b[32m━━━━━━━━━━━━━━━━━━━━\u001b[0m\u001b[37m\u001b[0m \u001b[1m9s\u001b[0m 118ms/step - acc: 1.0000 - loss: 7.9266e-06 - val_acc: 1.0000 - val_loss: 7.9139e-06\n",
      "Epoch 3/10\n",
      "\u001b[1m76/76\u001b[0m \u001b[32m━━━━━━━━━━━━━━━━━━━━\u001b[0m\u001b[37m\u001b[0m \u001b[1m9s\u001b[0m 118ms/step - acc: 1.0000 - loss: 7.5475e-06 - val_acc: 1.0000 - val_loss: 7.4318e-06\n",
      "Epoch 4/10\n",
      "\u001b[1m76/76\u001b[0m \u001b[32m━━━━━━━━━━━━━━━━━━━━\u001b[0m\u001b[37m\u001b[0m \u001b[1m9s\u001b[0m 118ms/step - acc: 1.0000 - loss: 6.9626e-06 - val_acc: 1.0000 - val_loss: 6.9786e-06\n",
      "Epoch 5/10\n",
      "\u001b[1m76/76\u001b[0m \u001b[32m━━━━━━━━━━━━━━━━━━━━\u001b[0m\u001b[37m\u001b[0m \u001b[1m9s\u001b[0m 119ms/step - acc: 1.0000 - loss: 6.1717e-06 - val_acc: 1.0000 - val_loss: 6.5553e-06\n",
      "Epoch 6/10\n",
      "\u001b[1m76/76\u001b[0m \u001b[32m━━━━━━━━━━━━━━━━━━━━\u001b[0m\u001b[37m\u001b[0m \u001b[1m11s\u001b[0m 146ms/step - acc: 1.0000 - loss: 6.3125e-06 - val_acc: 1.0000 - val_loss: 6.2153e-06\n",
      "Epoch 7/10\n",
      "\u001b[1m76/76\u001b[0m \u001b[32m━━━━━━━━━━━━━━━━━━━━\u001b[0m\u001b[37m\u001b[0m \u001b[1m12s\u001b[0m 157ms/step - acc: 1.0000 - loss: 5.5135e-06 - val_acc: 1.0000 - val_loss: 5.8922e-06\n",
      "Epoch 8/10\n",
      "\u001b[1m76/76\u001b[0m \u001b[32m━━━━━━━━━━━━━━━━━━━━\u001b[0m\u001b[37m\u001b[0m \u001b[1m12s\u001b[0m 152ms/step - acc: 1.0000 - loss: 5.3229e-06 - val_acc: 1.0000 - val_loss: 5.6018e-06\n",
      "Epoch 9/10\n",
      "\u001b[1m76/76\u001b[0m \u001b[32m━━━━━━━━━━━━━━━━━━━━\u001b[0m\u001b[37m\u001b[0m \u001b[1m10s\u001b[0m 138ms/step - acc: 1.0000 - loss: 5.1782e-06 - val_acc: 1.0000 - val_loss: 5.3389e-06\n",
      "Epoch 10/10\n",
      "\u001b[1m76/76\u001b[0m \u001b[32m━━━━━━━━━━━━━━━━━━━━\u001b[0m\u001b[37m\u001b[0m \u001b[1m9s\u001b[0m 118ms/step - acc: 1.0000 - loss: 5.5651e-06 - val_acc: 1.0000 - val_loss: 5.1045e-06\n"
     ]
    },
    {
     "name": "stderr",
     "output_type": "stream",
     "text": [
      "C:\\Users\\iniad\\miniconda3\\envs\\conda\\lib\\site-packages\\IPython\\core\\pylabtools.py:152: UserWarning: Glyph 27491 (\\N{CJK UNIFIED IDEOGRAPH-6B63}) missing from font(s) DejaVu Sans.\n",
      "  fig.canvas.print_figure(bytes_io, **kw)\n",
      "C:\\Users\\iniad\\miniconda3\\envs\\conda\\lib\\site-packages\\IPython\\core\\pylabtools.py:152: UserWarning: Glyph 35299 (\\N{CJK UNIFIED IDEOGRAPH-89E3}) missing from font(s) DejaVu Sans.\n",
      "  fig.canvas.print_figure(bytes_io, **kw)\n",
      "C:\\Users\\iniad\\miniconda3\\envs\\conda\\lib\\site-packages\\IPython\\core\\pylabtools.py:152: UserWarning: Glyph 29575 (\\N{CJK UNIFIED IDEOGRAPH-7387}) missing from font(s) DejaVu Sans.\n",
      "  fig.canvas.print_figure(bytes_io, **kw)\n",
      "C:\\Users\\iniad\\miniconda3\\envs\\conda\\lib\\site-packages\\IPython\\core\\pylabtools.py:152: UserWarning: Glyph 12514 (\\N{KATAKANA LETTER MO}) missing from font(s) DejaVu Sans.\n",
      "  fig.canvas.print_figure(bytes_io, **kw)\n",
      "C:\\Users\\iniad\\miniconda3\\envs\\conda\\lib\\site-packages\\IPython\\core\\pylabtools.py:152: UserWarning: Glyph 12487 (\\N{KATAKANA LETTER DE}) missing from font(s) DejaVu Sans.\n",
      "  fig.canvas.print_figure(bytes_io, **kw)\n",
      "C:\\Users\\iniad\\miniconda3\\envs\\conda\\lib\\site-packages\\IPython\\core\\pylabtools.py:152: UserWarning: Glyph 12523 (\\N{KATAKANA LETTER RU}) missing from font(s) DejaVu Sans.\n",
      "  fig.canvas.print_figure(bytes_io, **kw)\n",
      "C:\\Users\\iniad\\miniconda3\\envs\\conda\\lib\\site-packages\\IPython\\core\\pylabtools.py:152: UserWarning: Glyph 12398 (\\N{HIRAGANA LETTER NO}) missing from font(s) DejaVu Sans.\n",
      "  fig.canvas.print_figure(bytes_io, **kw)\n",
      "C:\\Users\\iniad\\miniconda3\\envs\\conda\\lib\\site-packages\\IPython\\core\\pylabtools.py:152: UserWarning: Glyph 12456 (\\N{KATAKANA LETTER E}) missing from font(s) DejaVu Sans.\n",
      "  fig.canvas.print_figure(bytes_io, **kw)\n",
      "C:\\Users\\iniad\\miniconda3\\envs\\conda\\lib\\site-packages\\IPython\\core\\pylabtools.py:152: UserWarning: Glyph 12509 (\\N{KATAKANA LETTER PO}) missing from font(s) DejaVu Sans.\n",
      "  fig.canvas.print_figure(bytes_io, **kw)\n",
      "C:\\Users\\iniad\\miniconda3\\envs\\conda\\lib\\site-packages\\IPython\\core\\pylabtools.py:152: UserWarning: Glyph 12483 (\\N{KATAKANA LETTER SMALL TU}) missing from font(s) DejaVu Sans.\n",
      "  fig.canvas.print_figure(bytes_io, **kw)\n",
      "C:\\Users\\iniad\\miniconda3\\envs\\conda\\lib\\site-packages\\IPython\\core\\pylabtools.py:152: UserWarning: Glyph 12463 (\\N{KATAKANA LETTER KU}) missing from font(s) DejaVu Sans.\n",
      "  fig.canvas.print_figure(bytes_io, **kw)\n",
      "C:\\Users\\iniad\\miniconda3\\envs\\conda\\lib\\site-packages\\IPython\\core\\pylabtools.py:152: UserWarning: Glyph 25968 (\\N{CJK UNIFIED IDEOGRAPH-6570}) missing from font(s) DejaVu Sans.\n",
      "  fig.canvas.print_figure(bytes_io, **kw)\n",
      "C:\\Users\\iniad\\miniconda3\\envs\\conda\\lib\\site-packages\\IPython\\core\\pylabtools.py:152: UserWarning: Glyph 35347 (\\N{CJK UNIFIED IDEOGRAPH-8A13}) missing from font(s) DejaVu Sans.\n",
      "  fig.canvas.print_figure(bytes_io, **kw)\n",
      "C:\\Users\\iniad\\miniconda3\\envs\\conda\\lib\\site-packages\\IPython\\core\\pylabtools.py:152: UserWarning: Glyph 32244 (\\N{CJK UNIFIED IDEOGRAPH-7DF4}) missing from font(s) DejaVu Sans.\n",
      "  fig.canvas.print_figure(bytes_io, **kw)\n",
      "C:\\Users\\iniad\\miniconda3\\envs\\conda\\lib\\site-packages\\IPython\\core\\pylabtools.py:152: UserWarning: Glyph 12540 (\\N{KATAKANA-HIRAGANA PROLONGED SOUND MARK}) missing from font(s) DejaVu Sans.\n",
      "  fig.canvas.print_figure(bytes_io, **kw)\n",
      "C:\\Users\\iniad\\miniconda3\\envs\\conda\\lib\\site-packages\\IPython\\core\\pylabtools.py:152: UserWarning: Glyph 12479 (\\N{KATAKANA LETTER TA}) missing from font(s) DejaVu Sans.\n",
      "  fig.canvas.print_figure(bytes_io, **kw)\n",
      "C:\\Users\\iniad\\miniconda3\\envs\\conda\\lib\\site-packages\\IPython\\core\\pylabtools.py:152: UserWarning: Glyph 26908 (\\N{CJK UNIFIED IDEOGRAPH-691C}) missing from font(s) DejaVu Sans.\n",
      "  fig.canvas.print_figure(bytes_io, **kw)\n",
      "C:\\Users\\iniad\\miniconda3\\envs\\conda\\lib\\site-packages\\IPython\\core\\pylabtools.py:152: UserWarning: Glyph 35388 (\\N{CJK UNIFIED IDEOGRAPH-8A3C}) missing from font(s) DejaVu Sans.\n",
      "  fig.canvas.print_figure(bytes_io, **kw)\n"
     ]
    },
    {
     "data": {
      "image/png": "[encoded data removed]",
      "text/plain": [
       "<Figure size 640x480 with 1 Axes>"
      ]
     },
     "metadata": {},
     "output_type": "display_data"
    },
    {
     "name": "stderr",
     "output_type": "stream",
     "text": [
      "C:\\Users\\iniad\\miniconda3\\envs\\conda\\lib\\site-packages\\IPython\\core\\pylabtools.py:152: UserWarning: Glyph 25613 (\\N{CJK UNIFIED IDEOGRAPH-640D}) missing from font(s) DejaVu Sans.\n",
      "  fig.canvas.print_figure(bytes_io, **kw)\n",
      "C:\\Users\\iniad\\miniconda3\\envs\\conda\\lib\\site-packages\\IPython\\core\\pylabtools.py:152: UserWarning: Glyph 22833 (\\N{CJK UNIFIED IDEOGRAPH-5931}) missing from font(s) DejaVu Sans.\n",
      "  fig.canvas.print_figure(bytes_io, **kw)\n"
     ]
    },
    {
     "data": {
      "image/png": "[encoded data removed]",
      "text/plain": [
       "<Figure size 640x480 with 1 Axes>"
      ]
     },
     "metadata": {},
     "output_type": "display_data"
    }
   ],
   "source": [
    "# モデル学習\n",
    "history = model.fit(\n",
    "    X_train,\n",
    "    y_train,\n",
    "    epochs=10,\n",
    "    batch_size=6,\n",
    "    validation_data=(X_test, y_test)\n",
    ")\n",
    "\n",
    "# 学習結果を取り出す\n",
    "acc = history.history['acc']\n",
    "val_acc = history.history['val_acc']\n",
    "loss = history.history['loss']\n",
    "val_loss = history.history['val_loss']\n",
    "\n",
    "# グラフ表示\n",
    "import matplotlib.pyplot as plt\n",
    "\n",
    "epochs = range(1, len(acc) + 1)\n",
    "\n",
    "plt.plot(epochs, acc, 'bo-', label='訓練データの正解率')\n",
    "plt.plot(epochs, val_acc, 'ro-', label='検証データの正解率')\n",
    "plt.title('モデルの正解率')\n",
    "plt.xlabel('エポック数')\n",
    "plt.ylabel('正解率')\n",
    "plt.legend()\n",
    "plt.grid()\n",
    "plt.show()\n",
    "\n",
    "plt.plot(epochs, loss, 'bo-', label='訓練データの損失')\n",
    "plt.plot(epochs, val_loss, 'ro-', label='検証データの損失')\n",
    "plt.title('モデルの損失')\n",
    "plt.xlabel('エポック数')\n",
    "plt.ylabel('損失')\n",
    "plt.legend()\n",
    "plt.grid()\n",
    "plt.show()\n"
   ]
  },
  {
   "cell_type": "code",
   "execution_count": 16,
   "id": "6775f83f-6b27-4f04-9530-c3a7dda0b882",
   "metadata": {},
   "outputs": [],
   "source": [
    "# モデルの構造をJSON形式で保存\n",
    "json_string = model.to_json()\n",
    "with open('test/tea_predict.json', 'w') as json_file:\n",
    "    json_file.write(json_string)\n",
    "\n",
    "# 重みをHDF5形式で保存\n",
    "model.save_weights('test/tea_predict.weights.h5')\n"
   ]
  },
  {
   "cell_type": "code",
   "execution_count": 17,
   "id": "6934c168-aba5-4334-9bcb-39b74c1ef197",
   "metadata": {},
   "outputs": [],
   "source": [
    "from PIL import Image\n",
    "import os, glob\n",
    "import numpy as np\n",
    "import random, math\n",
    "\n",
    "# 画像が保存されているディレクトリのパス\n",
    "root_dir = \"image\"\n",
    "# 画像が保存されているフォルダ名\n",
    "categories = [\"正誤問題\",\"文系の数学\",\"厳選数学\",\"中堅私大古文\",\n",
    "              \"整序問題集\",\"現代文アクセス発展\",\"数学思考力\",\n",
    "              \"ITパスポート\",\"Focus Gold\", \"英文法レベル5\"]\n",
    "\n",
    "X = [] # 画像データ\n",
    "Y = [] # ラベルデータ\n",
    "\n",
    "# フォルダごとに分けられたファイルを収集\n",
    "# （categoriesのidxと、画像のファイルパスが紐づいたリストを生成）\n",
    "allfiles = []\n",
    "for idx, cat in enumerate(categories):\n",
    "    image_dir = root_dir + \"/\" + cat\n",
    "    files = glob.glob(os.path.join(image_dir, \"*.png\")) + \\\n",
    "            glob.glob(os.path.join(image_dir, \"*.jpg\")) + \\\n",
    "            glob.glob(os.path.join(image_dir, \"*.jpeg\"))\n",
    "    for f in files:\n",
    "        allfiles.append((idx, f))\n",
    "\n",
    "for cat, fname in allfiles:\n",
    "    img = Image.open(fname)\n",
    "    img = img.convert(\"RGB\")\n",
    "    img = img.resize((150, 150))\n",
    "    data = np.asarray(img)\n",
    "    X.append(data)\n",
    "    Y.append(cat)\n",
    "\n",
    "x = np.array(X)\n",
    "y = np.array(Y)\n",
    "\n",
    "np.save(\"test/tea_data_test_X_150.npy\", x)\n",
    "np.save(\"test/tea_data_test_Y_150.npy\", y)\n"
   ]
  },
  {
   "cell_type": "code",
   "execution_count": 21,
   "id": "d544e61e-d606-4821-8d9f-3a09fa21bc5d",
   "metadata": {},
   "outputs": [
    {
     "name": "stdout",
     "output_type": "stream",
     "text": [
      "\u001b[1m18/18\u001b[0m \u001b[32m━━━━━━━━━━━━━━━━━━━━\u001b[0m\u001b[37m\u001b[0m \u001b[1m3s\u001b[0m 132ms/step - acc: 1.0000 - loss: 0.0000e+00\n",
      "loss = 0.0\n",
      "accuracy = 1.0\n"
     ]
    }
   ],
   "source": [
    "import numpy as np\n",
    "from tensorflow.keras.utils import to_categorical\n",
    "\n",
    "# 評価用のデータの読み込み\n",
    "eval_X = np.load(\"test/tea_data_test_X_150.npy\")\n",
    "eval_Y = np.load(\"test/tea_data_test_Y_150.npy\")\n",
    "\n",
    "# Yのデータをone-hotに変換\n",
    "eval_Y = to_categorical(eval_Y, num_classes=10)\n",
    "\n",
    "# モデルの評価\n",
    "score = model.evaluate(x=eval_X, y=eval_Y)\n",
    "\n",
    "# 結果を表示\n",
    "print('loss =', score[0])\n",
    "print('accuracy =', score[1])\n"
   ]
  },
  {
   "cell_type": "code",
   "execution_count": 5,
   "id": "01528b48-8438-455b-8ece-6e4aca1c1b67",
   "metadata": {},
   "outputs": [
    {
     "name": "stdin",
     "output_type": "stream",
     "text": [
      "画像ファイルパスを入力してください： syusyoku.jpg\n"
     ]
    },
    {
     "name": "stdout",
     "output_type": "stream",
     "text": [
      "WARNING:tensorflow:5 out of the last 5 calls to <function TensorFlowTrainer.make_predict_function.<locals>.one_step_on_data_distributed at 0x000001BC8EFAEE50> triggered tf.function retracing. Tracing is expensive and the excessive number of tracings could be due to (1) creating @tf.function repeatedly in a loop, (2) passing tensors with different shapes, (3) passing Python objects instead of tensors. For (1), please define your @tf.function outside of the loop. For (2), @tf.function has reduce_retracing=True option that can avoid unnecessary retracing. For (3), please refer to https://www.tensorflow.org/guide/function#controlling_retracing and https://www.tensorflow.org/api_docs/python/tf/function for  more details.\n",
      "\u001b[1m1/1\u001b[0m \u001b[32m━━━━━━━━━━━━━━━━━━━━\u001b[0m\u001b[37m\u001b[0m \u001b[1m0s\u001b[0m 180ms/step\n",
      "この画像は「厳選数学」と予測されました。（信頼度：1.00）\n",
      "その参考書は、数学です。\n"
     ]
    }
   ],
   "source": [
    "from keras.models import model_from_json\n",
    "from keras.preprocessing import image\n",
    "import numpy as np\n",
    "\n",
    "# モデルの読み込み\n",
    "with open('test/tea_predict.json', 'r') as json_file:\n",
    "    model = model_from_json(json_file.read())\n",
    "model.load_weights('test/tea_predict.weights.h5')  # 拡張子注意\n",
    "\n",
    "# カテゴリ名\n",
    "categories = [\"正誤問題\", \"文系の数学\", \"厳選数学\", \"中堅私大古文\",\n",
    "              \"整序問題集\", \"現代文アクセス発展\", \"数学思考力\",\n",
    "              \"ITパスポート\", \"Focus Gold\", \"英文法レベル5\"]\n",
    "\n",
    "# 画像の読み込みと前処理\n",
    "img_path = input(\"画像ファイルパスを入力してください：\")\n",
    "img = image.load_img(img_path, target_size=(150, 150))\n",
    "x = image.img_to_array(img)\n",
    "x = np.expand_dims(x, axis=0)\n",
    "x = x.astype('float32') / 255.0  # 正規化\n",
    "\n",
    "# 予測\n",
    "features = model.predict(x)\n",
    "predicted_index = np.argmax(features[0])\n",
    "confidence = features[0][predicted_index]  # 予測確率\n",
    "predicted_label = categories[predicted_index]\n",
    "\n",
    "# しきい値を設定（例：0.5）\n",
    "threshold = 0.5\n",
    "\n",
    "# 判定表示\n",
    "if confidence < threshold:\n",
    "    print(f\"この画像は、どのカテゴリにも確信を持って分類できませんでした。（信頼度：{confidence:.2f}）\")\n",
    "else:\n",
    "    print(f\"この画像は「{predicted_label}」と予測されました。（信頼度：{confidence:.2f}）\")\n",
    "\n",
    "    if predicted_index in [0, 4, 9]:  # 英文法レベル5\n",
    "        print(\"その参考書は、英語です。\")\n",
    "    elif predicted_index in [1, 2, 6, 8]:  # 数学関連（文系の数学, 厳選数学, 数学思考力）\n",
    "        print(\"その参考書は、数学です。\")\n",
    "    elif predicted_index in [3, 5]:\n",
    "        print(\"その参考書は、国語です。\")\n",
    "    elif predicted_index == 7:\n",
    "        print(\"その参考書は、ITパスポートです。\")\n",
    "    else:\n",
    "        message = f\"参考書を選んでください。（もしかして：あなたが選んでいるのは「{predicted_label}」ではありませんか？）\"\n",
    "        print(message)\n"
   ]
  },
  {
   "cell_type": "code",
   "execution_count": null,
   "id": "1448a841-a411-4620-b8cc-247306effb59",
   "metadata": {},
   "outputs": [],
   "source": []
  }
 ],
 "metadata": {
  "kernelspec": {
   "display_name": "Python 3 (ipykernel)",
   "language": "python",
   "name": "python3"
  },
  "language_info": {
   "codemirror_mode": {
    "name": "ipython",
    "version": 3
   },
   "file_extension": ".py",
   "mimetype": "text/x-python",
   "name": "python",
   "nbconvert_exporter": "python",
   "pygments_lexer": "ipython3",
   "version": "3.9.21"
  }
 },
 "nbformat": 4,
 "nbformat_minor": 5
}
